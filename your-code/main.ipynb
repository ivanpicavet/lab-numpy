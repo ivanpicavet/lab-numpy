{
 "cells": [
  {
   "cell_type": "markdown",
   "metadata": {},
   "source": [
    "# Intrduction to NumPy\n",
    "\n",
    "\n",
    "#### 1. Import NumPy under the name np."
   ]
  },
  {
   "cell_type": "code",
   "execution_count": 2,
   "metadata": {},
   "outputs": [],
   "source": [
    "# your code here\n",
    "import numpy as np"
   ]
  },
  {
   "cell_type": "markdown",
   "metadata": {},
   "source": [
    "#### 2. Print your NumPy version."
   ]
  },
  {
   "cell_type": "code",
   "execution_count": 4,
   "metadata": {},
   "outputs": [
    {
     "name": "stdout",
     "output_type": "stream",
     "text": [
      "1.18.5\n"
     ]
    }
   ],
   "source": [
    "# your code here\n",
    "print(np.__version__)"
   ]
  },
  {
   "cell_type": "markdown",
   "metadata": {},
   "source": [
    "#### 3. Generate a 2x3x5 3-dimensional array with random values. Assign the array to variable *a*.\n",
    "**Challenge**: there are at least three easy ways that use numpy to generate random arrays. How many ways can you find?"
   ]
  },
  {
   "cell_type": "code",
   "execution_count": 8,
   "metadata": {},
   "outputs": [
    {
     "name": "stdout",
     "output_type": "stream",
     "text": [
      "[[[0.80174842 0.99825691 0.32168033 0.58726408 0.42215404]\n",
      "  [0.26631635 0.34701361 0.0842411  0.82104427 0.18748972]\n",
      "  [0.02078106 0.02181494 0.28478208 0.25449842 0.51288188]]\n",
      "\n",
      " [[0.3576921  0.2492604  0.39186709 0.55843633 0.99607317]\n",
      "  [0.84681395 0.12491661 0.49823748 0.53857394 0.14869611]\n",
      "  [0.62616475 0.90235001 0.11665264 0.81875501 0.350297  ]]]\n"
     ]
    }
   ],
   "source": [
    "# Method 1\n",
    "a = np.random.random((2,3,5))\n",
    "print(a)"
   ]
  },
  {
   "cell_type": "code",
   "execution_count": 19,
   "metadata": {},
   "outputs": [
    {
     "name": "stdout",
     "output_type": "stream",
     "text": [
      "[[[0.63592737 0.29341747 0.92517552 0.34531009 0.31261697]\n",
      "  [0.84505353 0.9910594  0.54188508 0.43459529 0.59105268]\n",
      "  [0.88726453 0.89922781 0.98831588 0.52958963 0.39849583]]\n",
      "\n",
      " [[0.16079121 0.98392382 0.81639349 0.49156521 0.77940274]\n",
      "  [0.35710226 0.44298875 0.66870722 0.66346351 0.93477029]\n",
      "  [0.50196761 0.59949022 0.52549628 0.1141851  0.99137383]]]\n"
     ]
    }
   ],
   "source": [
    "# Method 2\n",
    "a= np.random.uniform(0,1,size=(2,3,5))\n",
    "print(a)"
   ]
  },
  {
   "cell_type": "code",
   "execution_count": 35,
   "metadata": {},
   "outputs": [
    {
     "name": "stdout",
     "output_type": "stream",
     "text": [
      "[[0. 0.]\n",
      " [0. 0.]\n",
      " [0. 0.]\n",
      " [0. 0.]\n",
      " [0. 0.]\n",
      " [0. 0.]\n",
      " [0. 0.]\n",
      " [0. 0.]\n",
      " [0. 0.]\n",
      " [0. 0.]]\n"
     ]
    }
   ],
   "source": [
    "# Method 3\n",
    "hh=np.zeros((10,2))\n",
    "print(hh)"
   ]
  },
  {
   "cell_type": "markdown",
   "metadata": {},
   "source": [
    "#### 4. Print *a*.\n"
   ]
  },
  {
   "cell_type": "code",
   "execution_count": 21,
   "metadata": {},
   "outputs": [
    {
     "name": "stdout",
     "output_type": "stream",
     "text": [
      "[[[0.63592737 0.29341747 0.92517552 0.34531009 0.31261697]\n",
      "  [0.84505353 0.9910594  0.54188508 0.43459529 0.59105268]\n",
      "  [0.88726453 0.89922781 0.98831588 0.52958963 0.39849583]]\n",
      "\n",
      " [[0.16079121 0.98392382 0.81639349 0.49156521 0.77940274]\n",
      "  [0.35710226 0.44298875 0.66870722 0.66346351 0.93477029]\n",
      "  [0.50196761 0.59949022 0.52549628 0.1141851  0.99137383]]]\n"
     ]
    }
   ],
   "source": [
    "# your code here\n",
    "print(a)"
   ]
  },
  {
   "cell_type": "markdown",
   "metadata": {},
   "source": [
    "#### 5. Create a 5x2x3 3-dimensional array with all values equaling 1. Assign the array to variable *b*."
   ]
  },
  {
   "cell_type": "code",
   "execution_count": 25,
   "metadata": {},
   "outputs": [],
   "source": [
    "# your code here\n",
    "b=np.random.uniform(1,1, size=(5,2,3))"
   ]
  },
  {
   "cell_type": "markdown",
   "metadata": {},
   "source": [
    "#### 6. Print *b*.\n"
   ]
  },
  {
   "cell_type": "code",
   "execution_count": 26,
   "metadata": {},
   "outputs": [
    {
     "name": "stdout",
     "output_type": "stream",
     "text": [
      "[[[1. 1. 1.]\n",
      "  [1. 1. 1.]]\n",
      "\n",
      " [[1. 1. 1.]\n",
      "  [1. 1. 1.]]\n",
      "\n",
      " [[1. 1. 1.]\n",
      "  [1. 1. 1.]]\n",
      "\n",
      " [[1. 1. 1.]\n",
      "  [1. 1. 1.]]\n",
      "\n",
      " [[1. 1. 1.]\n",
      "  [1. 1. 1.]]]\n"
     ]
    }
   ],
   "source": [
    "# your code here\n",
    "print(b)"
   ]
  },
  {
   "cell_type": "markdown",
   "metadata": {},
   "source": [
    "#### 7. Do *a* and *b* have the same size? How do you prove that in Python code?"
   ]
  },
  {
   "cell_type": "code",
   "execution_count": 27,
   "metadata": {},
   "outputs": [
    {
     "name": "stdout",
     "output_type": "stream",
     "text": [
      "same\n"
     ]
    }
   ],
   "source": [
    "# your code here\n",
    "if a.size == b.size:\n",
    "    print(\"same\")"
   ]
  },
  {
   "cell_type": "markdown",
   "metadata": {},
   "source": [
    "#### 8. Are you able to add *a* and *b*? Why or why not?\n"
   ]
  },
  {
   "cell_type": "code",
   "execution_count": 28,
   "metadata": {},
   "outputs": [
    {
     "ename": "ValueError",
     "evalue": "operands could not be broadcast together with shapes (2,3,5) (5,2,3) ",
     "output_type": "error",
     "traceback": [
      "\u001b[1;31m---------------------------------------------------------------------------\u001b[0m",
      "\u001b[1;31mValueError\u001b[0m                                Traceback (most recent call last)",
      "\u001b[1;32m<ipython-input-28-60898ac803cb>\u001b[0m in \u001b[0;36m<module>\u001b[1;34m\u001b[0m\n\u001b[0;32m      1\u001b[0m \u001b[1;31m# your answer here\u001b[0m\u001b[1;33m\u001b[0m\u001b[1;33m\u001b[0m\u001b[1;33m\u001b[0m\u001b[0m\n\u001b[1;32m----> 2\u001b[1;33m \u001b[0mc\u001b[0m\u001b[1;33m=\u001b[0m\u001b[0mnp\u001b[0m\u001b[1;33m.\u001b[0m\u001b[0madd\u001b[0m\u001b[1;33m(\u001b[0m\u001b[0ma\u001b[0m\u001b[1;33m,\u001b[0m\u001b[0mb\u001b[0m\u001b[1;33m)\u001b[0m\u001b[1;33m\u001b[0m\u001b[1;33m\u001b[0m\u001b[0m\n\u001b[0m\u001b[0;32m      3\u001b[0m \u001b[0mprint\u001b[0m\u001b[1;33m(\u001b[0m\u001b[0mc\u001b[0m\u001b[1;33m)\u001b[0m\u001b[1;33m\u001b[0m\u001b[1;33m\u001b[0m\u001b[0m\n",
      "\u001b[1;31mValueError\u001b[0m: operands could not be broadcast together with shapes (2,3,5) (5,2,3) "
     ]
    }
   ],
   "source": [
    "# your answer here\n",
    "c=np.add(a,b)\n",
    "print(c)\n",
    "#have to be same shape"
   ]
  },
  {
   "cell_type": "markdown",
   "metadata": {},
   "source": [
    "#### 9. Transpose *b* so that it has the same structure of *a* (i.e. become a 2x3x5 array). Assign the transposed array to variable *c*."
   ]
  },
  {
   "cell_type": "code",
   "execution_count": 38,
   "metadata": {},
   "outputs": [
    {
     "name": "stdout",
     "output_type": "stream",
     "text": [
      "[[[1. 1. 1. 1. 1.]\n",
      "  [1. 1. 1. 1. 1.]\n",
      "  [1. 1. 1. 1. 1.]]\n",
      "\n",
      " [[1. 1. 1. 1. 1.]\n",
      "  [1. 1. 1. 1. 1.]\n",
      "  [1. 1. 1. 1. 1.]]]\n"
     ]
    }
   ],
   "source": [
    "# your code here\n",
    "c=b.reshape(2, 3, 5)\n",
    "\n",
    "print(c)"
   ]
  },
  {
   "cell_type": "markdown",
   "metadata": {},
   "source": [
    "#### 10. Try to add *a* and *c*. Now it should work. Assign the sum to variable *d*. But why does it work now?"
   ]
  },
  {
   "cell_type": "code",
   "execution_count": 40,
   "metadata": {},
   "outputs": [
    {
     "name": "stdout",
     "output_type": "stream",
     "text": [
      "[[[1.63592737 1.29341747 1.92517552 1.34531009 1.31261697]\n",
      "  [1.84505353 1.9910594  1.54188508 1.43459529 1.59105268]\n",
      "  [1.88726453 1.89922781 1.98831588 1.52958963 1.39849583]]\n",
      "\n",
      " [[1.16079121 1.98392382 1.81639349 1.49156521 1.77940274]\n",
      "  [1.35710226 1.44298875 1.66870722 1.66346351 1.93477029]\n",
      "  [1.50196761 1.59949022 1.52549628 1.1141851  1.99137383]]]\n"
     ]
    }
   ],
   "source": [
    "# your code/answer here\n",
    "d=np.add(a,c)\n",
    "print(d)\n",
    "#works because same shape"
   ]
  },
  {
   "cell_type": "markdown",
   "metadata": {},
   "source": [
    "#### 11. Print *a* and *d*. Notice the difference and relation of the two array in terms of the values? Explain."
   ]
  },
  {
   "cell_type": "code",
   "execution_count": 44,
   "metadata": {},
   "outputs": [
    {
     "name": "stdout",
     "output_type": "stream",
     "text": [
      "[[[0.63592737 0.29341747 0.92517552 0.34531009 0.31261697]\n",
      "  [0.84505353 0.9910594  0.54188508 0.43459529 0.59105268]\n",
      "  [0.88726453 0.89922781 0.98831588 0.52958963 0.39849583]]\n",
      "\n",
      " [[0.16079121 0.98392382 0.81639349 0.49156521 0.77940274]\n",
      "  [0.35710226 0.44298875 0.66870722 0.66346351 0.93477029]\n",
      "  [0.50196761 0.59949022 0.52549628 0.1141851  0.99137383]]]\n",
      "\n",
      "\n",
      "\n",
      "[[[1.63592737 1.29341747 1.92517552 1.34531009 1.31261697]\n",
      "  [1.84505353 1.9910594  1.54188508 1.43459529 1.59105268]\n",
      "  [1.88726453 1.89922781 1.98831588 1.52958963 1.39849583]]\n",
      "\n",
      " [[1.16079121 1.98392382 1.81639349 1.49156521 1.77940274]\n",
      "  [1.35710226 1.44298875 1.66870722 1.66346351 1.93477029]\n",
      "  [1.50196761 1.59949022 1.52549628 1.1141851  1.99137383]]]\n"
     ]
    }
   ],
   "source": [
    "# your code/answer here\n",
    "print(a)\n",
    "print(\"\\n\\n\")\n",
    "print(d)\n",
    "\n",
    "#difference is 1 cause b was an array of all 1 value"
   ]
  },
  {
   "cell_type": "markdown",
   "metadata": {},
   "source": [
    "#### 12. Multiply *a* and *c*. Assign the result to *e*."
   ]
  },
  {
   "cell_type": "code",
   "execution_count": 46,
   "metadata": {},
   "outputs": [
    {
     "name": "stdout",
     "output_type": "stream",
     "text": [
      "[[[0.63592737 0.29341747 0.92517552 0.34531009 0.31261697]\n",
      "  [0.84505353 0.9910594  0.54188508 0.43459529 0.59105268]\n",
      "  [0.88726453 0.89922781 0.98831588 0.52958963 0.39849583]]\n",
      "\n",
      " [[0.16079121 0.98392382 0.81639349 0.49156521 0.77940274]\n",
      "  [0.35710226 0.44298875 0.66870722 0.66346351 0.93477029]\n",
      "  [0.50196761 0.59949022 0.52549628 0.1141851  0.99137383]]]\n"
     ]
    }
   ],
   "source": [
    "# your code here\n",
    "e=a*c\n",
    "print(e)"
   ]
  },
  {
   "cell_type": "markdown",
   "metadata": {},
   "source": [
    "#### 13. Does *e* equal to *a*? Why or why not?\n"
   ]
  },
  {
   "cell_type": "code",
   "execution_count": null,
   "metadata": {},
   "outputs": [],
   "source": [
    "# your code/answer here\n",
    "#yes, cause we multiply by 1"
   ]
  },
  {
   "cell_type": "markdown",
   "metadata": {},
   "source": [
    "#### 14. Identify the max, min, and mean values in *d*. Assign those values to variables *d_max*, *d_min* and *d_mean*."
   ]
  },
  {
   "cell_type": "code",
   "execution_count": 47,
   "metadata": {},
   "outputs": [],
   "source": [
    "# your code here\n",
    "d_max = np.max(d)\n",
    "d_min = np.min(d)\n",
    "d_mean = np.mean(d)"
   ]
  },
  {
   "cell_type": "markdown",
   "metadata": {},
   "source": [
    "#### 15. Now we want to label the values in *d*. First create an empty array *f* with the same shape (i.e. 2x3x5) as *d* using `np.empty`.\n"
   ]
  },
  {
   "cell_type": "code",
   "execution_count": 71,
   "metadata": {},
   "outputs": [
    {
     "name": "stdout",
     "output_type": "stream",
     "text": [
      "[[[0.63592737 0.29341747 0.92517552 0.34531009 0.31261697]\n",
      "  [0.84505353 0.9910594  0.54188508 0.43459529 0.59105268]\n",
      "  [0.88726453 0.89922781 0.98831588 0.52958963 0.39849583]]\n",
      "\n",
      " [[0.16079121 0.98392382 0.81639349 0.49156521 0.77940274]\n",
      "  [0.35710226 0.44298875 0.66870722 0.66346351 0.93477029]\n",
      "  [0.50196761 0.59949022 0.52549628 0.1141851  0.99137383]]]\n"
     ]
    }
   ],
   "source": [
    "# your code here\n",
    "f=np.empty((2,3,5))\n",
    "print(f)"
   ]
  },
  {
   "cell_type": "markdown",
   "metadata": {},
   "source": [
    "#### 16. Populate the values in *f*. \n",
    "\n",
    "For each value in *d*, if it's larger than *d_min* but smaller than *d_mean*, assign 25 to the corresponding value in *f*. If a value in *d* is larger than *d_mean* but smaller than *d_max*, assign 75 to the corresponding value in *f*. If a value equals to *d_mean*, assign 50 to the corresponding value in *f*. Assign 0 to the corresponding value(s) in *f* for *d_min* in *d*. Assign 100 to the corresponding value(s) in *f* for *d_max* in *d*. In the end, f should have only the following values: 0, 25, 50, 75, and 100.\n",
    "\n",
    "**Note**: you don't have to use Numpy in this question."
   ]
  },
  {
   "cell_type": "code",
   "execution_count": 72,
   "metadata": {},
   "outputs": [
    {
     "name": "stdout",
     "output_type": "stream",
     "text": [
      "[75, 25, 75, 25, 25, 75, 75, 25, 25, 25, 75, 75, 75, 25, 25, 25, 75, 75, 25, 75, 25, 25, 75, 75, 75, 25, 25, 25, 0, 100]\n"
     ]
    }
   ],
   "source": [
    "# larger than d_min but smaller than d_mean, assign 25 d_min<value<d_mean\n",
    "# larger than d_mean but smaller than d_max, assign 75 d_mean<value<d_max\n",
    "# If a value equals to d_mean, assign 50 d_mean == value\n",
    "# Assign 0 to the corresponding value(s) in f for d_min in d_min == value\n",
    "#100 d_max == value\n",
    "\n",
    "\n",
    "\n",
    "ff=[25 if d_min<value<d_mean else 75 if d_mean<value<d_max else 50 if value == d_mean else 0 if value == d_min else 100 for first_group in d for sub_group in first_group for value in sub_group]\n",
    "print(ff)\n"
   ]
  },
  {
   "cell_type": "markdown",
   "metadata": {},
   "source": [
    "#### 17. Print *d* and *f*. Do you have your expected *f*?\n",
    "For instance, if your *d* is:\n",
    "```python\n",
    "[[[1.85836099, 1.67064465, 1.62576044, 1.40243961, 1.88454931],\n",
    "[1.75354326, 1.69403643, 1.36729252, 1.61415071, 1.12104981],\n",
    "[1.72201435, 1.1862918 , 1.87078449, 1.7726778 , 1.88180042]],\n",
    "[[1.44747908, 1.31673383, 1.02000951, 1.52218947, 1.97066381],\n",
    "[1.79129243, 1.74983003, 1.96028037, 1.85166831, 1.65450881],\n",
    "[1.18068344, 1.9587381 , 1.00656599, 1.93402165, 1.73514584]]]\n",
    "```\n",
    "Your *f* should be:\n",
    "```python\n",
    "[[[ 75.,  75.,  75.,  25.,  75.],\n",
    "[ 75.,  75.,  25.,  25.,  25.],\n",
    "[ 75.,  25.,  75.,  75.,  75.]],\n",
    "[[ 25.,  25.,  25.,  25., 100.],\n",
    "[ 75.,  75.,  75.,  75.,  75.],\n",
    "[ 25.,  75.,   0.,  75.,  75.]]]\n",
    "```"
   ]
  },
  {
   "cell_type": "code",
   "execution_count": 73,
   "metadata": {},
   "outputs": [
    {
     "name": "stdout",
     "output_type": "stream",
     "text": [
      "[[[ 75  25  75  25  25]\n",
      "  [ 75  75  25  25  25]\n",
      "  [ 75  75  75  25  25]]\n",
      "\n",
      " [[ 25  75  75  25  75]\n",
      "  [ 25  25  75  75  75]\n",
      "  [ 25  25  25   0 100]]]\n",
      "\n",
      "\n",
      "\n",
      "\n",
      "[[[0.63592737 0.29341747 0.92517552 0.34531009 0.31261697]\n",
      "  [0.84505353 0.9910594  0.54188508 0.43459529 0.59105268]\n",
      "  [0.88726453 0.89922781 0.98831588 0.52958963 0.39849583]]\n",
      "\n",
      " [[0.16079121 0.98392382 0.81639349 0.49156521 0.77940274]\n",
      "  [0.35710226 0.44298875 0.66870722 0.66346351 0.93477029]\n",
      "  [0.50196761 0.59949022 0.52549628 0.1141851  0.99137383]]]\n"
     ]
    }
   ],
   "source": [
    "# your code here\n",
    "f_array = np.array(ff)\n",
    "\n",
    "f_array_reshape = f_array.reshape(2,3,5)\n",
    "print(f_array_reshape)\n",
    "print(\"\\n\\n\\n\")\n",
    "print(f)"
   ]
  },
  {
   "cell_type": "markdown",
   "metadata": {},
   "source": [
    "#### 18. Bonus question: instead of using numbers (i.e. 0, 25, 50, 75, and 100), use string values  (\"A\", \"B\", \"C\", \"D\", and \"E\") to label the array elements. For the example above, the expected result is:\n",
    "\n",
    "```python\n",
    "[[[ 'D',  'D',  'D',  'B',  'D'],\n",
    "[ 'D',  'D',  'B',  'B',  'B'],\n",
    "[ 'D',  'B',  'D',  'D',  'D']],\n",
    "[[ 'B',  'B',  'B',  'B',  'E'],\n",
    "[ 'D',  'D',  'D',  'D',  'D'],\n",
    "[ 'B',  'D',   'A',  'D', 'D']]]\n",
    "```\n",
    "**Note**: you don't have to use Numpy in this question."
   ]
  },
  {
   "cell_type": "code",
   "execution_count": null,
   "metadata": {},
   "outputs": [],
   "source": [
    "# your code here"
   ]
  }
 ],
 "metadata": {
  "kernelspec": {
   "display_name": "Python 3",
   "language": "python",
   "name": "python3"
  },
  "language_info": {
   "codemirror_mode": {
    "name": "ipython",
    "version": 3
   },
   "file_extension": ".py",
   "mimetype": "text/x-python",
   "name": "python",
   "nbconvert_exporter": "python",
   "pygments_lexer": "ipython3",
   "version": "3.8.3"
  }
 },
 "nbformat": 4,
 "nbformat_minor": 2
}
